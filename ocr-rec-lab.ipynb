{
 "cells": [
  {
   "cell_type": "code",
   "execution_count": 23,
   "id": "247f877c",
   "metadata": {},
   "outputs": [],
   "source": [
    "import matplotlib.pyplot as plt\n",
    "import cv2\n",
    "import numpy as np\n",
    "import os\n",
    "\n",
    "from paddleocr import PaddleOCR\n",
    "\n",
    "\n",
    "from PIL import Image\n",
    "from paddleocr import TextRecognition\n",
    "from paddleocr import TextDetection\n",
    "\n",
    "from helpers.inspector import inspect_object\n"
   ]
  },
  {
   "cell_type": "code",
   "execution_count": 28,
   "id": "7f616969",
   "metadata": {},
   "outputs": [],
   "source": [
    "# Bildpfad\n",
    "image_path = \"Schneckenwelle.jpg\"\n",
    "image = Image.open(image_path).convert(\"RGB\")\n",
    "img_np = np.array(image)\n"
   ]
  },
  {
   "cell_type": "code",
   "execution_count": 31,
   "id": "41692a4b",
   "metadata": {},
   "outputs": [
    {
     "name": "stdout",
     "output_type": "stream",
     "text": [
      "--- Inspecting: img_np ---\n",
      "Type: <class 'PIL.Image.Image'>\n",
      "Attributes:\n",
      " - alpha_composite: <class 'method'>\n",
      "--- Inspecting: img_np.alpha_composite ---\n",
      "Type: <class 'method'>\n",
      "Attributes:\n",
      "\n",
      "\n",
      " - apply_transparency: <class 'method'>\n",
      "--- Inspecting: img_np.apply_transparency ---\n",
      "Type: <class 'method'>\n",
      "Attributes:\n",
      "\n",
      "\n",
      " - close: <class 'method'>\n",
      "--- Inspecting: img_np.close ---\n",
      "Type: <class 'method'>\n",
      "Attributes:\n",
      "\n",
      "\n",
      " - convert: <class 'method'>\n",
      "--- Inspecting: img_np.convert ---\n",
      "Type: <class 'method'>\n",
      "Attributes:\n",
      "\n",
      "\n",
      " - copy: <class 'method'>\n",
      "--- Inspecting: img_np.copy ---\n",
      "Type: <class 'method'>\n",
      "Attributes:\n",
      "\n",
      "\n",
      " - crop: <class 'method'>\n",
      "--- Inspecting: img_np.crop ---\n",
      "Type: <class 'method'>\n",
      "Attributes:\n",
      "\n",
      "\n",
      " - draft: <class 'method'>\n",
      "--- Inspecting: img_np.draft ---\n",
      "Type: <class 'method'>\n",
      "Attributes:\n",
      "\n",
      "\n",
      " - effect_spread: <class 'method'>\n",
      "--- Inspecting: img_np.effect_spread ---\n",
      "Type: <class 'method'>\n",
      "Attributes:\n",
      "\n",
      "\n",
      " - entropy: <class 'method'>\n",
      "--- Inspecting: img_np.entropy ---\n",
      "Type: <class 'method'>\n",
      "Attributes:\n",
      "\n",
      "\n",
      " - filter: <class 'method'>\n",
      "--- Inspecting: img_np.filter ---\n",
      "Type: <class 'method'>\n",
      "Attributes:\n",
      "\n",
      "\n",
      "\n",
      "\n"
     ]
    }
   ],
   "source": [
    "inspect_object(image, name=\"img_np\")\n"
   ]
  },
  {
   "cell_type": "code",
   "execution_count": 15,
   "id": "0ba96a1d",
   "metadata": {},
   "outputs": [
    {
     "name": "stderr",
     "output_type": "stream",
     "text": [
      "\u001b[33mMKL-DNN is not available. Using `paddle` instead.\u001b[0m\n",
      "\u001b[32mUsing official model (PP-OCRv5_server_det), the model files will be automatically downloaded and saved in /Users/gerhardkarbeutz/.paddlex/official_models.\u001b[0m\n"
     ]
    },
    {
     "data": {
      "application/vnd.jupyter.widget-view+json": {
       "model_id": "037df35c9a0d4f739fd4faeed005ca80",
       "version_major": 2,
       "version_minor": 0
      },
      "text/plain": [
       "Fetching 6 files:   0%|          | 0/6 [00:00<?, ?it/s]"
      ]
     },
     "metadata": {},
     "output_type": "display_data"
    },
    {
     "name": "stderr",
     "output_type": "stream",
     "text": [
      "\u001b[32m{'res': {'input_path': None, 'page_index': None, 'dt_polys': array([[[879, 897],\n",
      "        ...,\n",
      "        [879, 907]],\n",
      "\n",
      "       ...,\n",
      "\n",
      "       [[944,  85],\n",
      "        ...,\n",
      "        [944, 112]]], dtype=int16), 'dt_scores': [0.7945580862772961, 0.9304698371949295, 0.7561921024698985, 0.7281057972460986, 0.6177545873532918, 0.9268560577239398, 0.91293188696198, 0.9883202606317948, 0.9056529998779297, 0.8352959785682846, 0.7406655207315149, 0.9759778354905153, 0.8639507440863119, 0.9579723698319867, 0.9449299596482889, 0.8859441453116198, 0.6722485486079346, 0.8346600553227795, 0.9766052586043844, 0.9586822539129282, 0.9713346474512946, 0.8740434740971336, 0.9100476460459096, 0.9166111927479506, 0.8790461783781648, 0.8158156524101893, 0.7580048458029827, 0.9308460106558915, 0.9785615130359135, 0.9716165825258941, 0.9519295502115379, 0.9490360067015694, 0.9714873020350934, 0.8731619566506958, 0.9550017527750005, 0.9166160068091224, 0.7894653652540662, 0.7852050672805534, 0.9324886446353048, 0.9379592105591049, 0.8992362406300871, 0.8813862369947687, 0.8559983978792682, 0.9249242441285224, 0.8552928016605703, 0.9892024781366792, 0.9165710089003875, 0.8629897748258103, 0.7644863946446164, 0.9625644935925204, 0.9120078831911087, 0.9345163474363103, 0.9474343361934183, 0.9765030775880401, 0.839003534856088, 0.8387303323934561, 0.8823140044603497, 0.9245642573762408, 0.7773773609187941, 0.9195377145494733, 0.8917199154143819, 0.8984696886169591, 0.9670938440443326, 0.9282121613950414, 0.8879952762112874, 0.795736363678571, 0.9155618360091466, 0.9013113408748592, 0.8300328714124459, 0.9216564112860296, 0.903967107529752, 0.9348023871425539, 0.8430002740242034, 0.9282314963638783, 0.9322280065223042, 0.8771840997317296, 0.8163454572537115, 0.8276195194394815, 0.6099470829857246, 0.857842047844315, 0.7047956368575493, 0.6662063023395604, 0.9186586066218162, 0.6627156711848718, 0.7385140470513659, 0.7839370574511122, 0.7429938962464623, 0.8407834790996276, 0.8662741011066828, 0.7766143821477373, 0.7584575778908199, 0.8960959069312564, 0.9072153858141974, 0.7879945040609606, 0.9033818240676608, 0.8675239938918663, 0.7517261492250312, 0.7842192181290062, 0.7413625109596057, 0.8688808178359813, 0.9632840070459578, 0.7982152972776347, 0.9241698415329059, 0.8371824598087678, 0.9647563872858883, 0.9316964764147997, 0.8894670125078502, 0.9529469064954256, 0.9518332234104437, 0.7065253463174616, 0.6039623721491223, 0.8657637109102395, 0.9257530779854971, 0.8010883200022763, 0.7703892168732743]}}\u001b[0m\n",
      "\u001b[33mThere is not input file name as reference for name of saved result file. So the saved result file would be named with timestamp and random number: `1751465579_6131`.\u001b[0m\n"
     ]
    },
    {
     "name": "stdout",
     "output_type": "stream",
     "text": [
      "Gefundene Textboxen: [{'input_path': None, 'page_index': None, 'input_img': array([[[255, ..., 255],\n",
      "        ...,\n",
      "        [255, ..., 255]],\n",
      "\n",
      "       ...,\n",
      "\n",
      "       [[255, ..., 255],\n",
      "        ...,\n",
      "        [255, ..., 255]]], dtype=uint8), 'dt_polys': array([[[879, 897],\n",
      "        ...,\n",
      "        [879, 907]],\n",
      "\n",
      "       ...,\n",
      "\n",
      "       [[944,  85],\n",
      "        ...,\n",
      "        [944, 112]]], dtype=int16), 'dt_scores': [0.7945580862772961, 0.9304698371949295, 0.7561921024698985, 0.7281057972460986, 0.6177545873532918, 0.9268560577239398, 0.91293188696198, 0.9883202606317948, 0.9056529998779297, 0.8352959785682846, 0.7406655207315149, 0.9759778354905153, 0.8639507440863119, 0.9579723698319867, 0.9449299596482889, 0.8859441453116198, 0.6722485486079346, 0.8346600553227795, 0.9766052586043844, 0.9586822539129282, 0.9713346474512946, 0.8740434740971336, 0.9100476460459096, 0.9166111927479506, 0.8790461783781648, 0.8158156524101893, 0.7580048458029827, 0.9308460106558915, 0.9785615130359135, 0.9716165825258941, 0.9519295502115379, 0.9490360067015694, 0.9714873020350934, 0.8731619566506958, 0.9550017527750005, 0.9166160068091224, 0.7894653652540662, 0.7852050672805534, 0.9324886446353048, 0.9379592105591049, 0.8992362406300871, 0.8813862369947687, 0.8559983978792682, 0.9249242441285224, 0.8552928016605703, 0.9892024781366792, 0.9165710089003875, 0.8629897748258103, 0.7644863946446164, 0.9625644935925204, 0.9120078831911087, 0.9345163474363103, 0.9474343361934183, 0.9765030775880401, 0.839003534856088, 0.8387303323934561, 0.8823140044603497, 0.9245642573762408, 0.7773773609187941, 0.9195377145494733, 0.8917199154143819, 0.8984696886169591, 0.9670938440443326, 0.9282121613950414, 0.8879952762112874, 0.795736363678571, 0.9155618360091466, 0.9013113408748592, 0.8300328714124459, 0.9216564112860296, 0.903967107529752, 0.9348023871425539, 0.8430002740242034, 0.9282314963638783, 0.9322280065223042, 0.8771840997317296, 0.8163454572537115, 0.8276195194394815, 0.6099470829857246, 0.857842047844315, 0.7047956368575493, 0.6662063023395604, 0.9186586066218162, 0.6627156711848718, 0.7385140470513659, 0.7839370574511122, 0.7429938962464623, 0.8407834790996276, 0.8662741011066828, 0.7766143821477373, 0.7584575778908199, 0.8960959069312564, 0.9072153858141974, 0.7879945040609606, 0.9033818240676608, 0.8675239938918663, 0.7517261492250312, 0.7842192181290062, 0.7413625109596057, 0.8688808178359813, 0.9632840070459578, 0.7982152972776347, 0.9241698415329059, 0.8371824598087678, 0.9647563872858883, 0.9316964764147997, 0.8894670125078502, 0.9529469064954256, 0.9518332234104437, 0.7065253463174616, 0.6039623721491223, 0.8657637109102395, 0.9257530779854971, 0.8010883200022763, 0.7703892168732743]}]\n"
     ]
    }
   ],
   "source": [
    "# Text Detection Modell (PP-OCRv5)\n",
    "detector = TextDetection(model_name=\"PP-OCRv5_server_det\")\n",
    "\n",
    "# Run detection\n",
    "detection_result = detector.predict(input=[img_np])\n",
    "print(f\"Gefundene Textboxen: {detection_result}\")\n",
    "\n",
    "for res in detection_result:\n",
    "    res.print()\n",
    "    res.save_to_img(save_path=\"./output/det/\")\n",
    "    res.save_to_json(save_path=\"./output/det/res.json\")\n",
    "    \n",
    "    \n",
    "det_res = detection_result[0]\n"
   ]
  },
  {
   "cell_type": "code",
   "execution_count": 17,
   "id": "0e744757",
   "metadata": {},
   "outputs": [
    {
     "name": "stdout",
     "output_type": "stream",
     "text": [
      "Verfügbare Attribute:\n",
      " - clear\n",
      " - copy\n",
      " - fromkeys\n",
      " - get\n",
      " - img\n",
      " - items\n",
      " - json\n",
      " - keys\n",
      " - pop\n",
      " - popitem\n",
      " - print\n",
      " - save_all\n",
      " - save_to_img\n",
      " - save_to_json\n",
      " - setdefault\n",
      " - str\n",
      " - update\n",
      " - values\n"
     ]
    }
   ],
   "source": [
    "print(\"Verfügbare Attribute:\")\n",
    "for attr in dir(det_res):\n",
    "    if not attr.startswith(\"_\"):\n",
    "        print(f\" - {attr}\")"
   ]
  },
  {
   "cell_type": "code",
   "execution_count": 18,
   "id": "8aea0a96",
   "metadata": {},
   "outputs": [
    {
     "name": "stdout",
     "output_type": "stream",
     "text": [
      "dict_keys(['input_path', 'page_index', 'input_img', 'dt_polys', 'dt_scores'])\n"
     ]
    }
   ],
   "source": [
    "print(det_res.keys())\n"
   ]
  },
  {
   "cell_type": "code",
   "execution_count": 19,
   "id": "e2d0b58e",
   "metadata": {},
   "outputs": [],
   "source": [
    "image = det_res[\"input_img\"]         # ← Bild als NumPy-Array\n",
    "boxes = det_res[\"dt_polys\"]          # ← Liste der Textboxen\n",
    "scores = det_res[\"dt_scores\"]        # ← Liste der Confidence-Werte\n"
   ]
  },
  {
   "cell_type": "code",
   "execution_count": 20,
   "id": "8a3b3ed6",
   "metadata": {},
   "outputs": [],
   "source": [
    "\n",
    "\n",
    "def crop_boxes(image, boxes):\n",
    "    crops = []\n",
    "    for box in boxes:\n",
    "        # Hole die Koordinaten (int)\n",
    "        box = np.array(box).astype(np.int32)\n",
    "\n",
    "        # Berechne Bounding-Box als Rechteck\n",
    "        rect = cv2.boundingRect(box)\n",
    "        x, y, w, h = rect\n",
    "\n",
    "        # Crop aus Bild schneiden\n",
    "        crop = image[y:y+h, x:x+w]\n",
    "        crops.append(crop)\n",
    "    return crops\n"
   ]
  },
  {
   "cell_type": "code",
   "execution_count": 21,
   "id": "20bc9d48",
   "metadata": {},
   "outputs": [
    {
     "name": "stdout",
     "output_type": "stream",
     "text": [
      "115 Textregionen extrahiert.\n"
     ]
    }
   ],
   "source": [
    "crops = crop_boxes(image, boxes)\n",
    "print(f\"{len(crops)} Textregionen extrahiert.\")\n"
   ]
  },
  {
   "cell_type": "code",
   "execution_count": 22,
   "id": "472f92c8",
   "metadata": {},
   "outputs": [
    {
     "name": "stderr",
     "output_type": "stream",
     "text": [
      "\u001b[33mMKL-DNN is not available. Using `paddle` instead.\u001b[0m\n",
      "\u001b[32mUsing official model (PP-OCRv5_server_rec), the model files will be automatically downloaded and saved in /Users/gerhardkarbeutz/.paddlex/official_models.\u001b[0m\n"
     ]
    },
    {
     "data": {
      "application/vnd.jupyter.widget-view+json": {
       "model_id": "d17d708b92bb44fc95fa972e1130bfb8",
       "version_major": 2,
       "version_minor": 0
      },
      "text/plain": [
       "Fetching 6 files:   0%|          | 0/6 [00:00<?, ?it/s]"
      ]
     },
     "metadata": {},
     "output_type": "display_data"
    },
    {
     "name": "stderr",
     "output_type": "stream",
     "text": [
      "\u001b[32m{'res': {'input_path': None, 'page_index': None, 'rec_text': '', 'rec_score': 0.0}}\u001b[0m\n",
      "\u001b[33mThere is not input file name as reference for name of saved result file. So the saved result file would be named with timestamp and random number: `1751465641_8808`.\u001b[0m\n",
      "\u001b[32m{'res': {'input_path': None, 'page_index': None, 'rec_text': 'Da', 'rec_score': 0.4286233186721802}}\u001b[0m\n",
      "\u001b[33mThere is not input file name as reference for name of saved result file. So the saved result file would be named with timestamp and random number: `1751465641_8557`.\u001b[0m\n",
      "\u001b[32m{'res': {'input_path': None, 'page_index': None, 'rec_text': 'Anderung', 'rec_score': 0.7714438438415527}}\u001b[0m\n",
      "\u001b[33mThere is not input file name as reference for name of saved result file. So the saved result file would be named with timestamp and random number: `1751465641_2701`.\u001b[0m\n",
      "\u001b[32m{'res': {'input_path': None, 'page_index': None, 'rec_text': '', 'rec_score': 0.0}}\u001b[0m\n",
      "\u001b[33mThere is not input file name as reference for name of saved result file. So the saved result file would be named with timestamp and random number: `1751465641_8417`.\u001b[0m\n",
      "\u001b[32m{'res': {'input_path': None, 'page_index': None, 'rec_text': 'A', 'rec_score': 0.06993083655834198}}\u001b[0m\n"
     ]
    },
    {
     "ename": "ValueError",
     "evalue": "font size must be greater than 0, not 0",
     "output_type": "error",
     "traceback": [
      "\u001b[0;31m---------------------------------------------------------------------------\u001b[0m",
      "\u001b[0;31mValueError\u001b[0m                                Traceback (most recent call last)",
      "Cell \u001b[0;32mIn[22], line 11\u001b[0m\n\u001b[1;32m      8\u001b[0m save_folder \u001b[38;5;241m=\u001b[39m \u001b[38;5;124mf\u001b[39m\u001b[38;5;124m\"\u001b[39m\u001b[38;5;124m./output/rec/crop_\u001b[39m\u001b[38;5;132;01m{\u001b[39;00midx\u001b[38;5;132;01m}\u001b[39;00m\u001b[38;5;124m\"\u001b[39m\n\u001b[1;32m      9\u001b[0m os\u001b[38;5;241m.\u001b[39mmakedirs(save_folder, exist_ok\u001b[38;5;241m=\u001b[39m\u001b[38;5;28;01mTrue\u001b[39;00m)\n\u001b[0;32m---> 11\u001b[0m \u001b[43mres\u001b[49m\u001b[38;5;241;43m.\u001b[39;49m\u001b[43msave_to_img\u001b[49m\u001b[43m(\u001b[49m\u001b[43msave_path\u001b[49m\u001b[38;5;241;43m=\u001b[39;49m\u001b[43msave_folder\u001b[49m\u001b[43m)\u001b[49m\n\u001b[1;32m     12\u001b[0m res\u001b[38;5;241m.\u001b[39msave_to_json(save_path\u001b[38;5;241m=\u001b[39mos\u001b[38;5;241m.\u001b[39mpath\u001b[38;5;241m.\u001b[39mjoin(save_folder, \u001b[38;5;124m\"\u001b[39m\u001b[38;5;124mres.json\u001b[39m\u001b[38;5;124m\"\u001b[39m))\n",
      "File \u001b[0;32m~/cerpro/ocr-rec-lab/ocr-rec-lab-venv/lib/python3.10/site-packages/paddlex/inference/common/result/mixin.py:319\u001b[0m, in \u001b[0;36mImgMixin.save_to_img\u001b[0;34m(self, save_path, *args, **kwargs)\u001b[0m\n\u001b[1;32m    316\u001b[0m     mime_type, _ \u001b[38;5;241m=\u001b[39m mimetypes\u001b[38;5;241m.\u001b[39mguess_type(file_path)\n\u001b[1;32m    317\u001b[0m     \u001b[38;5;28;01mreturn\u001b[39;00m mime_type \u001b[38;5;129;01mis\u001b[39;00m \u001b[38;5;129;01mnot\u001b[39;00m \u001b[38;5;28;01mNone\u001b[39;00m \u001b[38;5;129;01mand\u001b[39;00m mime_type\u001b[38;5;241m.\u001b[39mstartswith(\u001b[38;5;124m\"\u001b[39m\u001b[38;5;124mimage/\u001b[39m\u001b[38;5;124m\"\u001b[39m)\n\u001b[0;32m--> 319\u001b[0m img \u001b[38;5;241m=\u001b[39m \u001b[38;5;28;43mself\u001b[39;49m\u001b[38;5;241;43m.\u001b[39;49m\u001b[43m_to_img\u001b[49m\u001b[43m(\u001b[49m\u001b[43m)\u001b[49m\n\u001b[1;32m    320\u001b[0m \u001b[38;5;28;01mif\u001b[39;00m \u001b[38;5;129;01mnot\u001b[39;00m _is_image_file(save_path):\n\u001b[1;32m    321\u001b[0m     fn \u001b[38;5;241m=\u001b[39m Path(\u001b[38;5;28mself\u001b[39m\u001b[38;5;241m.\u001b[39m_get_input_fn())\n",
      "File \u001b[0;32m~/cerpro/ocr-rec-lab/ocr-rec-lab-venv/lib/python3.10/site-packages/paddlex/inference/models/text_recognition/result.py:47\u001b[0m, in \u001b[0;36mTextRecResult._to_img\u001b[0;34m(self)\u001b[0m\n\u001b[1;32m     45\u001b[0m image_width, image_height \u001b[38;5;241m=\u001b[39m image\u001b[38;5;241m.\u001b[39msize\n\u001b[1;32m     46\u001b[0m text \u001b[38;5;241m=\u001b[39m \u001b[38;5;124mf\u001b[39m\u001b[38;5;124m\"\u001b[39m\u001b[38;5;132;01m{\u001b[39;00mrec_text\u001b[38;5;132;01m}\u001b[39;00m\u001b[38;5;124m (\u001b[39m\u001b[38;5;132;01m{\u001b[39;00mrec_score\u001b[38;5;132;01m}\u001b[39;00m\u001b[38;5;124m)\u001b[39m\u001b[38;5;124m\"\u001b[39m\n\u001b[0;32m---> 47\u001b[0m font \u001b[38;5;241m=\u001b[39m \u001b[38;5;28;43mself\u001b[39;49m\u001b[38;5;241;43m.\u001b[39;49m\u001b[43madjust_font_size\u001b[49m\u001b[43m(\u001b[49m\u001b[43mimage_width\u001b[49m\u001b[43m,\u001b[49m\u001b[43m \u001b[49m\u001b[43mtext\u001b[49m\u001b[43m,\u001b[49m\u001b[43m \u001b[49m\u001b[43mvis_font\u001b[49m\u001b[38;5;241;43m.\u001b[39;49m\u001b[43mpath\u001b[49m\u001b[43m)\u001b[49m\n\u001b[1;32m     48\u001b[0m row_height \u001b[38;5;241m=\u001b[39m font\u001b[38;5;241m.\u001b[39mgetbbox(text)[\u001b[38;5;241m3\u001b[39m]\n\u001b[1;32m     49\u001b[0m new_image_height \u001b[38;5;241m=\u001b[39m image_height \u001b[38;5;241m+\u001b[39m \u001b[38;5;28mint\u001b[39m(row_height \u001b[38;5;241m*\u001b[39m \u001b[38;5;241m1.2\u001b[39m)\n",
      "File \u001b[0;32m~/cerpro/ocr-rec-lab/ocr-rec-lab-venv/lib/python3.10/site-packages/paddlex/inference/models/text_recognition/result.py:64\u001b[0m, in \u001b[0;36mTextRecResult.adjust_font_size\u001b[0;34m(self, image_width, text, font_path)\u001b[0m\n\u001b[1;32m     62\u001b[0m \u001b[38;5;28;01mdef\u001b[39;00m\u001b[38;5;250m \u001b[39m\u001b[38;5;21madjust_font_size\u001b[39m(\u001b[38;5;28mself\u001b[39m, image_width, text, font_path):\n\u001b[1;32m     63\u001b[0m     font_size \u001b[38;5;241m=\u001b[39m \u001b[38;5;28mint\u001b[39m(image_width \u001b[38;5;241m*\u001b[39m \u001b[38;5;241m0.06\u001b[39m)\n\u001b[0;32m---> 64\u001b[0m     font \u001b[38;5;241m=\u001b[39m \u001b[43mImageFont\u001b[49m\u001b[38;5;241;43m.\u001b[39;49m\u001b[43mtruetype\u001b[49m\u001b[43m(\u001b[49m\u001b[43mfont_path\u001b[49m\u001b[43m,\u001b[49m\u001b[43m \u001b[49m\u001b[43mfont_size\u001b[49m\u001b[43m)\u001b[49m\n\u001b[1;32m     66\u001b[0m     \u001b[38;5;28;01mif\u001b[39;00m \u001b[38;5;28mint\u001b[39m(PIL\u001b[38;5;241m.\u001b[39m__version__\u001b[38;5;241m.\u001b[39msplit(\u001b[38;5;124m\"\u001b[39m\u001b[38;5;124m.\u001b[39m\u001b[38;5;124m\"\u001b[39m)[\u001b[38;5;241m0\u001b[39m]) \u001b[38;5;241m<\u001b[39m \u001b[38;5;241m10\u001b[39m:\n\u001b[1;32m     67\u001b[0m         text_width, _ \u001b[38;5;241m=\u001b[39m font\u001b[38;5;241m.\u001b[39mgetsize(text)\n",
      "File \u001b[0;32m~/cerpro/ocr-rec-lab/ocr-rec-lab-venv/lib/python3.10/site-packages/PIL/ImageFont.py:880\u001b[0m, in \u001b[0;36mtruetype\u001b[0;34m(font, size, index, encoding, layout_engine)\u001b[0m\n\u001b[1;32m    877\u001b[0m     \u001b[38;5;28;01mreturn\u001b[39;00m FreeTypeFont(font, size, index, encoding, layout_engine)\n\u001b[1;32m    879\u001b[0m \u001b[38;5;28;01mtry\u001b[39;00m:\n\u001b[0;32m--> 880\u001b[0m     \u001b[38;5;28;01mreturn\u001b[39;00m \u001b[43mfreetype\u001b[49m\u001b[43m(\u001b[49m\u001b[43mfont\u001b[49m\u001b[43m)\u001b[49m\n\u001b[1;32m    881\u001b[0m \u001b[38;5;28;01mexcept\u001b[39;00m \u001b[38;5;167;01mOSError\u001b[39;00m:\n\u001b[1;32m    882\u001b[0m     \u001b[38;5;28;01mif\u001b[39;00m \u001b[38;5;129;01mnot\u001b[39;00m is_path(font):\n",
      "File \u001b[0;32m~/cerpro/ocr-rec-lab/ocr-rec-lab-venv/lib/python3.10/site-packages/PIL/ImageFont.py:877\u001b[0m, in \u001b[0;36mtruetype.<locals>.freetype\u001b[0;34m(font)\u001b[0m\n\u001b[1;32m    876\u001b[0m \u001b[38;5;28;01mdef\u001b[39;00m\u001b[38;5;250m \u001b[39m\u001b[38;5;21mfreetype\u001b[39m(font: StrOrBytesPath \u001b[38;5;241m|\u001b[39m BinaryIO) \u001b[38;5;241m-\u001b[39m\u001b[38;5;241m>\u001b[39m FreeTypeFont:\n\u001b[0;32m--> 877\u001b[0m     \u001b[38;5;28;01mreturn\u001b[39;00m \u001b[43mFreeTypeFont\u001b[49m\u001b[43m(\u001b[49m\u001b[43mfont\u001b[49m\u001b[43m,\u001b[49m\u001b[43m \u001b[49m\u001b[43msize\u001b[49m\u001b[43m,\u001b[49m\u001b[43m \u001b[49m\u001b[43mindex\u001b[49m\u001b[43m,\u001b[49m\u001b[43m \u001b[49m\u001b[43mencoding\u001b[49m\u001b[43m,\u001b[49m\u001b[43m \u001b[49m\u001b[43mlayout_engine\u001b[49m\u001b[43m)\u001b[49m\n",
      "File \u001b[0;32m~/cerpro/ocr-rec-lab/ocr-rec-lab-venv/lib/python3.10/site-packages/PIL/ImageFont.py:232\u001b[0m, in \u001b[0;36mFreeTypeFont.__init__\u001b[0;34m(self, font, size, index, encoding, layout_engine)\u001b[0m\n\u001b[1;32m    230\u001b[0m \u001b[38;5;28;01mif\u001b[39;00m size \u001b[38;5;241m<\u001b[39m\u001b[38;5;241m=\u001b[39m \u001b[38;5;241m0\u001b[39m:\n\u001b[1;32m    231\u001b[0m     msg \u001b[38;5;241m=\u001b[39m \u001b[38;5;124mf\u001b[39m\u001b[38;5;124m\"\u001b[39m\u001b[38;5;124mfont size must be greater than 0, not \u001b[39m\u001b[38;5;132;01m{\u001b[39;00msize\u001b[38;5;132;01m}\u001b[39;00m\u001b[38;5;124m\"\u001b[39m\n\u001b[0;32m--> 232\u001b[0m     \u001b[38;5;28;01mraise\u001b[39;00m \u001b[38;5;167;01mValueError\u001b[39;00m(msg)\n\u001b[1;32m    234\u001b[0m \u001b[38;5;28mself\u001b[39m\u001b[38;5;241m.\u001b[39mpath \u001b[38;5;241m=\u001b[39m font\n\u001b[1;32m    235\u001b[0m \u001b[38;5;28mself\u001b[39m\u001b[38;5;241m.\u001b[39msize \u001b[38;5;241m=\u001b[39m size\n",
      "\u001b[0;31mValueError\u001b[0m: font size must be greater than 0, not 0"
     ]
    }
   ],
   "source": [
    "recognizer = TextRecognition(model_name=\"PP-OCRv5_server_rec\")\n",
    "output = recognizer.predict(input=crops, batch_size=1)\n",
    "\n",
    "# Jeder Crop separat speichern\n",
    "for idx, res in enumerate(output):\n",
    "    res.print()\n",
    "\n",
    "    save_folder = f\"./output/rec/crop_{idx}\"\n",
    "    os.makedirs(save_folder, exist_ok=True)\n",
    "\n",
    "    res.save_to_img(save_path=save_folder)\n",
    "    res.save_to_json(save_path=os.path.join(save_folder, \"res.json\"))\n"
   ]
  },
  {
   "cell_type": "code",
   "execution_count": null,
   "id": "be7ef081",
   "metadata": {},
   "outputs": [],
   "source": [
    "print(\"Verfügbare Attribute:\")\n",
    "for attr in dir(output):\n",
    "    if not attr.startswith(\"_\"):\n",
    "        print(f\" - {attr}\")"
   ]
  },
  {
   "cell_type": "code",
   "execution_count": null,
   "id": "bcddb1d0",
   "metadata": {},
   "outputs": [],
   "source": [
    "print(output)"
   ]
  },
  {
   "cell_type": "code",
   "execution_count": null,
   "id": "394df9e1",
   "metadata": {},
   "outputs": [],
   "source": [
    "results_list = []\n",
    "for idx, res in enumerate(output):\n",
    "    results_list.append({\n",
    "        \"index\": idx,\n",
    "        \"text\": res['rec_text'],\n",
    "        \"score\": res['rec_score']\n",
    "    })\n",
    "\n",
    "import pandas as pd\n",
    "pd.DataFrame(results_list).to_csv(\"./output/rec_summary.csv\", index=False)\n"
   ]
  }
 ],
 "metadata": {
  "kernelspec": {
   "display_name": "ocr-rec-lab-venv",
   "language": "python",
   "name": "python3"
  },
  "language_info": {
   "codemirror_mode": {
    "name": "ipython",
    "version": 3
   },
   "file_extension": ".py",
   "mimetype": "text/x-python",
   "name": "python",
   "nbconvert_exporter": "python",
   "pygments_lexer": "ipython3",
   "version": "3.10.0"
  }
 },
 "nbformat": 4,
 "nbformat_minor": 5
}
