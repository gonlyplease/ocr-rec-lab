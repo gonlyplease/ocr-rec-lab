{
 "cells": [
  {
   "cell_type": "code",
   "execution_count": 1,
   "id": "73a0eb21",
   "metadata": {},
   "outputs": [],
   "source": [
    "from __future__ import annotations\n",
    "\n",
    "import json\n",
    "import math\n",
    "import os\n",
    "from pathlib import Path\n",
    "from typing import Dict, List\n",
    "\n",
    "import cv2\n",
    "import numpy as np\n",
    "from pycocotools.coco import COCO\n",
    "from tqdm import tqdm"
   ]
  },
  {
   "cell_type": "code",
   "execution_count": 16,
   "id": "dafe0abf",
   "metadata": {},
   "outputs": [],
   "source": [
    "# -------------------------------------------------\n",
    "# Configuration – adapt to your project structure\n",
    "# -------------------------------------------------\n",
    "SRC_IMG_DIR = Path(\"../data/rotation/batches/batch_20250703_01/images/default\")\n",
    "ANNOT_PATH = Path(\"../data/rotation/batches/batch_20250703_01/annotations/instances_train.json\")\n",
    "DEST_PATCH_DIR = Path(\"../data/rotation/batches/batch_20250703_01/images/boxes\")\n",
    "\n",
    "PAD_RATIO: float = 1.05  # extra context around the box\n",
    "ANGLES: List[int] = [0, 45, 90, -45, -90, 180]"
   ]
  },
  {
   "cell_type": "code",
   "execution_count": 17,
   "id": "8def2afb",
   "metadata": {},
   "outputs": [],
   "source": [
    "def ensure_dir(path: Path) -> None:\n",
    "    \"\"\"Creates *path* (and parents) if it does not exist.\"\"\"\n",
    "    path.mkdir(parents=True, exist_ok=True)\n",
    "\n",
    "\n",
    "def rectify_patch(img: np.ndarray, cx: float, cy: float, w: float, h: float, theta: float) -> np.ndarray:\n",
    "    \"\"\"Return a *sharp* patch rotated back to 0°.\n",
    "\n",
    "    Parameters\n",
    "    ----------\n",
    "    img\n",
    "        Full RGB/BGR image array.\n",
    "    cx, cy\n",
    "        Center of the box (pixels).\n",
    "    w, h\n",
    "        Width and height of the box (pixels).\n",
    "    theta\n",
    "        Rotation angle in **degrees** (positive = counter‑clockwise).\n",
    "    \"\"\"\n",
    "    # Rotate whole image so the target box becomes axis‑aligned.\n",
    "    M = cv2.getRotationMatrix2D((cx, cy), -theta, 1.0)\n",
    "    rotated = cv2.warpAffine(img, M, (img.shape[1], img.shape[0]), flags=cv2.INTER_LINEAR)\n",
    "\n",
    "    # Crop the patch with a small padding to avoid cutting edges.\n",
    "    x0 = int(cx - w / 2 * PAD_RATIO)\n",
    "    y0 = int(cy - h / 2 * PAD_RATIO)\n",
    "    x1 = int(cx + w / 2 * PAD_RATIO)\n",
    "    y1 = int(cy + h / 2 * PAD_RATIO)\n",
    "\n",
    "    return rotated[max(0, y0) : y1, max(0, x0) : x1]"
   ]
  },
  {
   "cell_type": "code",
   "execution_count": null,
   "id": "4e4ba579",
   "metadata": {},
   "outputs": [],
   "source": [
    "\n",
    "def rotate_patch(patch: np.ndarray, angle: float) -> np.ndarray:\n",
    "    \"\"\"Rotate *patch* by *angle* degrees and return the new image.\"\"\"\n",
    "    h, w = patch.shape[:2]\n",
    "    center = (w / 2, h / 2)\n",
    "\n",
    "    M = cv2.getRotationMatrix2D(center, angle, 1.0)\n",
    "    cos, sin = abs(M[0, 0]), abs(M[0, 1])\n",
    "    new_w = int(h * sin + w * cos)\n",
    "    new_h = int(h * cos + w * sin)\n",
    "\n",
    "    # Shift so the image stays centred.\n",
    "    M[0, 2] += new_w / 2 - center[0]\n",
    "    \n",
    "    M[1, 2] += new_h / 2 - center[1]\n",
    "\n",
    "    return cv2.warpAffine(\n",
    "        patch, M, (new_w, new_h), flags=cv2.INTER_LINEAR, borderValue=255\n",
    "    )"
   ]
  },
  {
   "cell_type": "code",
   "execution_count": 21,
   "id": "e4383137",
   "metadata": {},
   "outputs": [],
   "source": [
    "# -------------------------------------------------\n",
    "# COCO helpers\n",
    "# -------------------------------------------------\n",
    "\n",
    "def load_coco(annot_path: Path):\n",
    "    \"\"\"Return COCO instance and a mapping *image_id ➜ [annotations]*.\"\"\"\n",
    "    coco = COCO(str(annot_path))\n",
    "    img_to_anns: Dict[int, List[dict]] = {}\n",
    "    for ann in coco.dataset[\"annotations\"]:\n",
    "        img_to_anns.setdefault(ann[\"image_id\"], []).append(ann)\n",
    "    return coco, img_to_anns"
   ]
  },
  {
   "cell_type": "code",
   "execution_count": 23,
   "id": "83b8ae2f",
   "metadata": {},
   "outputs": [],
   "source": [
    "def process_single_image(\n",
    "    coco: COCO,\n",
    "    annotations: Dict[int, List[dict]],\n",
    "    img_id: int,\n",
    "    dst_dir: Path = DEST_PATCH_DIR,\n",
    "):\n",
    "    \"\"\"Cut, rectify & replicate patches for one image.\"\"\"\n",
    "    info = coco.loadImgs([img_id])[0]\n",
    "    img = cv2.imread(str(SRC_IMG_DIR / info[\"file_name\"]))\n",
    "    if img is None:\n",
    "        raise FileNotFoundError(info[\"file_name\"])\n",
    "\n",
    "    for i, ann in enumerate(annotations.get(img_id, [])):\n",
    "        # Handle axis‑aligned (4‑tuple) **and** rotated (5‑tuple) bboxes.\n",
    "        bbox = ann.get(\"bbox\", [])\n",
    "        if len(bbox) == 5:\n",
    "            cx, cy, w, h, theta = bbox\n",
    "        elif len(bbox) == 4:\n",
    "            x, y, w, h = bbox\n",
    "            cx, cy, theta = x + w / 2, y + h / 2, 0\n",
    "        else:\n",
    "            continue  # skip malformed ann\n",
    "\n",
    "        patch = rectify_patch(img, cx, cy, w, h, theta)\n",
    "        base = f\"{Path(info['file_name']).stem}_{i:03d}\"\n",
    "\n",
    "        # Horizontal version\n",
    "        cv2.imwrite(str(dst_dir / f\"{base}_0.png\"), patch)\n",
    "\n",
    "        # Additional angles\n",
    "        for a in ANGLES:\n",
    "            if a == 0:\n",
    "                continue\n",
    "            cv2.imwrite(\n",
    "                str(dst_dir / f\"{base}_{a:+d}.png\"), rotate_patch(patch, a)\n",
    "            )"
   ]
  },
  {
   "cell_type": "code",
   "execution_count": 25,
   "id": "6c86e75c",
   "metadata": {},
   "outputs": [],
   "source": [
    "\n",
    "def process_batch():\n",
    "    \"\"\"Iterate over all images in the dataset.\"\"\"\n",
    "    ensure_dir(DEST_PATCH_DIR)\n",
    "    coco, anns = load_coco(ANNOT_PATH)\n",
    "    for img_id in tqdm(coco.getImgIds(), desc=\"Images\"):\n",
    "        process_single_image(coco, anns, img_id)"
   ]
  },
  {
   "cell_type": "code",
   "execution_count": 27,
   "id": "a2751a5a",
   "metadata": {},
   "outputs": [],
   "source": [
    "def _synthetic_test() -> None:\n",
    "    \"\"\"Create a synthetic image & run the pipeline without COCO.\"\"\"\n",
    "    tmp_dir = Path(\"_debug\")\n",
    "    ensure_dir(tmp_dir)\n",
    "\n",
    "    # Synthetic white canvas with one rotated black rectangle\n",
    "    canvas = np.full((256, 256, 3), 255, np.uint8)\n",
    "    cv2.rectangle(canvas, (60, 80), (196, 176), (0, 0, 0), 2)\n",
    "    cx, cy, w, h, theta = 128, 128, 136, 96, 30  # degrees\n",
    "\n",
    "    rectified = rectify_patch(canvas, cx, cy, w, h, theta)\n",
    "    cv2.imwrite(str(tmp_dir / \"rectified.png\"), rectified)\n",
    "\n",
    "    for a in ANGLES:\n",
    "        cv2.imwrite(str(tmp_dir / f\"rot_{a:+d}.png\"), rotate_patch(rectified, a))\n",
    "\n",
    "    print(f\"Test images written to {tmp_dir.resolve()}\")"
   ]
  },
  {
   "cell_type": "code",
   "execution_count": 28,
   "id": "7344efa1",
   "metadata": {},
   "outputs": [
    {
     "name": "stdout",
     "output_type": "stream",
     "text": [
      "Test images written to /Users/gerhardkarbeutz/cerpro/ocr-rec-lab/pipeline/_debug\n"
     ]
    }
   ],
   "source": [
    "\n",
    "# -------------------------------------------------\n",
    "# Entry point\n",
    "# -------------------------------------------------\n",
    "if __name__ == \"__main__\":\n",
    "    # Uncomment ONE of the following lines depending on your intent.\n",
    "\n",
    "    # -- full dataset run --\n",
    "    # process_batch()\n",
    "\n",
    "    # -- quick self‑contained test --\n",
    "    _synthetic_test()\n"
   ]
  }
 ],
 "metadata": {
  "kernelspec": {
   "display_name": "ocr-rec-lab-venv",
   "language": "python",
   "name": "python3"
  },
  "language_info": {
   "codemirror_mode": {
    "name": "ipython",
    "version": 3
   },
   "file_extension": ".py",
   "mimetype": "text/x-python",
   "name": "python",
   "nbconvert_exporter": "python",
   "pygments_lexer": "ipython3",
   "version": "3.10.0"
  }
 },
 "nbformat": 4,
 "nbformat_minor": 5
}
