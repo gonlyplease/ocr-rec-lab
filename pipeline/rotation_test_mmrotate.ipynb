{
 "cells": [
  {
   "cell_type": "code",
   "execution_count": 9,
   "id": "73a0eb21",
   "metadata": {},
   "outputs": [],
   "source": [
    "import cv2, math, os, json, numpy as np\n",
    "from pathlib import Path\n",
    "from tqdm import tqdm\n",
    "from pycocotools.coco import COCO\n",
    "\n",
    "SRC_IMG_DIR   = Path('../data/rotation/batches/batch_20250703_01/images/default')\n",
    "DEST_IMG_DIR  = Path('../data/rotation/batches/batch_20250703_01/images/boxes')   # patches land here\n",
    "DEST_ANN_PATH = Path('../data/rotation/batches/batch_20250703_01/annotations/instances_train_rectified.json')\n",
    "\n"
   ]
  },
  {
   "cell_type": "code",
   "execution_count": null,
   "id": "4e4ba579",
   "metadata": {},
   "outputs": [],
   "source": [
    "\n",
    "PAD_RATIO = 1.05\n",
    "ANGLES = [0, 45, 90, -45, -90, 180]\n",
    "\n",
    "def rectify_patch(img, cx, cy, w, h, theta):\n",
    "    \"\"\"schneidet ein auf 0° korrigiertes Patch aus und gibt es zurück\"\"\"\n",
    "    M = cv2.getRotationMatrix2D((cx, cy), -theta, 1.0)\n",
    "    rot = cv2.warpAffine(\n",
    "        img, M, (img.shape[1], img.shape[0]), flags=cv2.INTER_LINEAR\n",
    "    )\n",
    "    x0 = int(cx - w/2*PAD_RATIO); y0 = int(cy - h/2*PAD_RATIO)\n",
    "    x1 = int(cx + w/2*PAD_RATIO); y1 = int(cy + h/2*PAD_RATIO)\n",
    "    return rot[max(0,y0):y1, max(0,x0):x1]\n",
    "\n",
    "def rotate_patch(patch, angle):\n",
    "    \"\"\"dreht Patch um angle (°) und gibt (rot_img, new_w, new_h) zurück\"\"\"\n",
    "    h, w = patch.shape[:2]\n",
    "    c  = (w/2, h/2)\n",
    "    M  = cv2.getRotationMatrix2D(c, angle, 1.0)\n",
    "    cos, sin = abs(M[0,0]), abs(M[0,1])\n",
    "    new_w = int(h*sin + w*cos)\n",
    "    new_h = int(h*cos + w*sin)\n",
    "    M[0,2] += new_w/2 - c[0]\n",
    "    M[1,2] += new_h/2 - c[1]\n",
    "    rot = cv2.warpAffine(\n",
    "        patch, M, (new_w, new_h),\n",
    "        flags=cv2.INTER_LINEAR, borderValue=255     # Weißer Rand bei CAD\n",
    "    )\n",
    "    return rot, new_w, new_h\n"
   ]
  }
 ],
 "metadata": {
  "kernelspec": {
   "display_name": "ocr-rec-lab-venv",
   "language": "python",
   "name": "python3"
  },
  "language_info": {
   "codemirror_mode": {
    "name": "ipython",
    "version": 3
   },
   "file_extension": ".py",
   "mimetype": "text/x-python",
   "name": "python",
   "nbconvert_exporter": "python",
   "pygments_lexer": "ipython3",
   "version": "3.10.0"
  }
 },
 "nbformat": 4,
 "nbformat_minor": 5
}
