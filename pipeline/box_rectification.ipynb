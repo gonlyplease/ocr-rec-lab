{
 "cells": [
  {
   "cell_type": "markdown",
   "id": "08a1957e",
   "metadata": {},
   "source": [
    "# To-Dos\n",
    "\n",
    "- establish system to name batches provided by sascha\n",
    "- establish loop for changing the bboxes on all coco json if they havent been changed so far\n",
    "\n",
    "\n"
   ]
  },
  {
   "cell_type": "code",
   "execution_count": 13,
   "id": "113ab745",
   "metadata": {},
   "outputs": [],
   "source": [
    "import cv2, os, math, sys\n",
    "from pathlib import Path\n",
    "from typing import List, Tuple\n",
    "import numpy as np\n",
    "from tqdm import tqdm\n",
    "from pathlib import Path\n",
    "from typing import List, Dict, Any\n",
    "import os, json, shutil, random, math, datetime as dt\n",
    "import pandas as pd\n",
    "\n",
    "\n",
    "VERBOSE = True\n",
    "\n",
    "def debug(msg: str, level: str = 'INFO') -> None:\n",
    "    if not VERBOSE:\n",
    "        return\n",
    "    colours = {'INFO': '\\033[94m', 'WARN': '\\033[93m', 'ERR': '\\033[91m'}\n",
    "    print(f\"{colours.get(level, '')}[{level}] {msg}\\033[0m\")"
   ]
  },
  {
   "cell_type": "markdown",
   "id": "f756e28d",
   "metadata": {},
   "source": [
    "## 1 · Configuration"
   ]
  },
  {
   "cell_type": "code",
   "execution_count": null,
   "id": "2e6d8337",
   "metadata": {},
   "outputs": [
    {
     "name": "stdout",
     "output_type": "stream",
     "text": [
      "<class 'pathlib.PosixPath'>\n",
      "\u001b[94m[INFO] Config loaded.\u001b[0m\n"
     ]
    }
   ],
   "source": [
    "#SRC_IMG_DIR         = Path('../data/rotation/batches/batch_20250703_01/images/default')\n",
    "#SRC_ANNOTATION_PATH = Path('../data/rotation/batches/batch_20250703_01/annotations/instances_default.json')\n",
    "\n",
    "BATCHES_DIR = Path('../data/rotation/batches/')\n",
    "\n",
    "print(type(BATCHES_DIR))\n",
    "\n",
    "\n",
    "\n",
    "\n",
    "ANGLES: List[int]   = [0, 45, 90, 180, 270, 360]\n",
    "\n",
    "debug('Config loaded.')"
   ]
  },
  {
   "cell_type": "markdown",
   "id": "b2f20c6f",
   "metadata": {},
   "source": [
    "## 2 · COCO helpers & utils"
   ]
  },
  {
   "cell_type": "code",
   "execution_count": 16,
   "id": "1f063313",
   "metadata": {},
   "outputs": [
    {
     "name": "stdout",
     "output_type": "stream",
     "text": [
      "rotation_20250708_01\n",
      "../data/rotation/batches/rotation_20250708_01/annotations/instances_default.json\n",
      "rotation_20250708_02\n",
      "../data/rotation/batches/rotation_20250708_02/annotations/instances_default.json\n"
     ]
    }
   ],
   "source": [
    "\n",
    "\n",
    "def load_coco(json_path: Path) -> Dict[str, Any]:\n",
    "    with open(json_path, 'r', encoding='utf-8') as f:\n",
    "        coco = json.load(f)\n",
    "    return coco\n",
    "\n",
    "    \n",
    "\n",
    "def create_obb_tuple(anns):\n",
    "    bbox = anns.get(\"bbox\", \"No bbox found\")\n",
    "    if(len(bbox) == 4):    \n",
    "        x, y, w, h = anns[\"bbox\"]\n",
    "        cx = x + (w/2)\n",
    "        cy = y + (h/2)\n",
    "        angle = anns[\"attributes\"].get(\"rotation\", 0.0)\n",
    "        obb_list = [cx, cy, w, h, angle]\n",
    "        anns[\"bbox\"] = obb_list\n",
    "    else: \n",
    "        #print(f\"type = {type(bbox)}, length = {len(bbox) if hasattr(bbox, '__len__') else 'N/A'}, bbox: {bbox}\")\n",
    "        print(\"Weirdle after every element is on 5 tuples it starts to iterate again\")\n",
    "\n",
    "\n",
    "\n",
    "def replace_obb(coco, batchdir):\n",
    "    for anns in coco['annotations']:\n",
    "        create_obb_tuple(anns)\n",
    "        \n",
    "    json_object = json.dumps(coco)\n",
    "    with open(batchdir / \"annotations\" / \"instances_updated.json\", mode=\"w\") as file:\n",
    "        file.write(json_object)\n",
    "              \n",
    "        \n",
    "def convert_all_batches():\n",
    "    for p in BATCHES_DIR.iterdir():\n",
    "        if \"rotation\" in p.name:\n",
    "            print(p.name)\n",
    "            json_path = p / \"annotations\" / \"instances_default.json\"\n",
    "            print(json_path)\n",
    "            #coco = load_coco(json_path)\n",
    "            replace_obb(load_coco(json_path), p)\n",
    "            \n",
    "        \n",
    "        \n",
    "convert_all_batches()        \n",
    "\n",
    "    "
   ]
  },
  {
   "cell_type": "markdown",
   "id": "8204dbb2",
   "metadata": {},
   "source": [
    "## Debug"
   ]
  },
  {
   "cell_type": "code",
   "execution_count": 4,
   "id": "cbeb50b2",
   "metadata": {},
   "outputs": [],
   "source": [
    "def lookAtCoco(json_path: Path):\n",
    "    coco = load_coco(json_path)\n",
    "    print(f\"Coco {coco}\")\n",
    "    print(f\"Keys {coco.keys()}\")\n",
    "    print(f\"Values {coco.values()}\")\n",
    "    print(f\"Items {coco.items()}\")\n",
    "\n",
    "    print(f\"Images      : {(coco['images'])}\")\n",
    "    print(f\"Annotations : {(coco['annotations'])}\")\n",
    "    print(f\"Categories  : {(coco['categories'])}\\n\")\n",
    "    \n",
    "    \n",
    "    \n",
    "    \n",
    "def debug_bbox(coco):\n",
    "    for i, anns in enumerate(coco['annotations']):\n",
    "        bbox = anns.get(\"bbox\", \"No bbox found\")\n",
    "        print(f\"Annotation {i}: bbox = {bbox}, type = {type(bbox)}, length = {len(bbox) if hasattr(bbox, '__len__') else 'N/A'}\")"
   ]
  },
  {
   "cell_type": "markdown",
   "id": "a6a27033",
   "metadata": {},
   "source": [
    "## 3 · Geometry with loss stats"
   ]
  },
  {
   "cell_type": "code",
   "execution_count": null,
   "id": "e96703c9",
   "metadata": {},
   "outputs": [],
   "source": [
    "def crop_patch(img, cx, cy, w, h, theta):\n",
    "    print(f'Rectify: centre=({cx:.1f},{cy:.1f}) w={w:.1f} h={h:.1f} θ={theta:.1f}')\n",
    "    \n",
    "    M = cv2.getRotationMatrix2D((cx, cy), theta, 1.0)\n",
    "    \n",
    "    print(M)\n",
    "    \n",
    "    print(f\"img.shape[1]: {img.shape[1]}\")\n",
    "    print(f\"img.shape[0]: {img.shape[0]}\")\n",
    "\n",
    "    \n",
    "    rot = cv2.warpAffine(img, M, (img.shape[1], img.shape[0]), flags=cv2.INTER_LINEAR)\n",
    "    \n",
    "    cv2.imwrite('rotated_image.jpg', rot)\n",
    "    \n",
    "#image_file = '../data/rotation/batches/batch_20250703_01/images/default/10000.png'\n",
    "#image_1 = cv2.imread(image_file)\n",
    "#rectify_patch(image_1, 2452.195, 549.365, 35.37, 32.47, 314.6)\n"
   ]
  },
  {
   "cell_type": "code",
   "execution_count": null,
   "id": "30b20f64",
   "metadata": {},
   "outputs": [],
   "source": [
    "    print(f\"Images      : {(coco['images'])}\")\n",
    "    print(f\"Annotations : {(coco['annotations'])}\")\n",
    "    \n",
    "    \n",
    "coco['images']\n",
    "coco['annotations']\n",
    "\n",
    "\n",
    "id': 1, 'file_name': '10000.png'\n",
    "\n",
    "coco['images']['id'] == ['annotations']['image_id']"
   ]
  },
  {
   "cell_type": "code",
   "execution_count": 17,
   "id": "060f5dfe",
   "metadata": {},
   "outputs": [],
   "source": [
    "def crop_oriented_bbox(img, cx, cy, w, h, theta):\n",
    "    # Step 1: Rotate the entire image around the bbox center\n",
    "    M = cv2.getRotationMatrix2D((cx, cy), theta, 1.0)\n",
    "    rotated = cv2.warpAffine(img, M, (img.shape[1], img.shape[0]))\n",
    "    \n",
    "    # Step 2: Crop the now-aligned rectangle\n",
    "    x1 = int(cx - w/2)\n",
    "    y1 = int(cy - h/2)\n",
    "    x2 = int(cx + w/2)\n",
    "    y2 = int(cy + h/2)\n",
    "    \n",
    "    # Ensure bounds are within image\n",
    "    x1, y1 = max(0, x1), max(0, y1)\n",
    "    x2, y2 = min(img.shape[1], x2), min(img.shape[0], y2)\n",
    "    \n",
    "    cropped = rotated[y1:y2, x1:x2]\n",
    "    return cropped"
   ]
  },
  {
   "cell_type": "code",
   "execution_count": null,
   "id": "8c17a312",
   "metadata": {},
   "outputs": [
    {
     "name": "stdout",
     "output_type": "stream",
     "text": [
      "../data/rotation/batches/rotation_20250708_01\n",
      "../data/rotation/batches/rotation_20250708_01/images/default\n",
      "dict_keys(['licenses', 'info', 'categories', 'images', 'annotations'])\n",
      "1\n",
      "{'id': 1, 'width': 3055, 'height': 2160, 'file_name': '10000.png', 'license': 0, 'flickr_url': '', 'coco_url': '', 'date_captured': 0}\n",
      "<class 'dict'>\n",
      "10000.png\n",
      "10000\n",
      "../data/rotation/batches/rotation_20250708_01/images/default\n",
      "1\n",
      "{'id': 1, 'width': 3055, 'height': 2160, 'file_name': '10000.png', 'license': 0, 'flickr_url': '', 'coco_url': '', 'date_captured': 0}\n",
      "<class 'dict'>\n",
      "10000.png\n",
      "10000\n",
      "../data/rotation/batches/rotation_20250708_01/images/default\n",
      "1\n",
      "{'id': 1, 'width': 3055, 'height': 2160, 'file_name': '10000.png', 'license': 0, 'flickr_url': '', 'coco_url': '', 'date_captured': 0}\n",
      "<class 'dict'>\n",
      "10000.png\n",
      "10000\n",
      "../data/rotation/batches/rotation_20250708_01/images/default\n",
      "../data/rotation/batches/rotation_20250708_02\n",
      "../data/rotation/batches/rotation_20250708_02/images/default\n",
      "dict_keys(['licenses', 'info', 'categories', 'images', 'annotations'])\n",
      "1\n",
      "{'id': 1, 'width': 2160, 'height': 3053, 'file_name': '10232.png', 'license': 0, 'flickr_url': '', 'coco_url': '', 'date_captured': 0}\n",
      "<class 'dict'>\n",
      "10232.png\n",
      "10232\n",
      "../data/rotation/batches/rotation_20250708_02/images/default\n",
      "1\n",
      "{'id': 1, 'width': 2160, 'height': 3053, 'file_name': '10232.png', 'license': 0, 'flickr_url': '', 'coco_url': '', 'date_captured': 0}\n",
      "<class 'dict'>\n",
      "10232.png\n",
      "10232\n",
      "../data/rotation/batches/rotation_20250708_02/images/default\n",
      "1\n",
      "{'id': 1, 'width': 2160, 'height': 3053, 'file_name': '10232.png', 'license': 0, 'flickr_url': '', 'coco_url': '', 'date_captured': 0}\n",
      "<class 'dict'>\n",
      "10232.png\n",
      "10232\n",
      "../data/rotation/batches/rotation_20250708_02/images/default\n"
     ]
    }
   ],
   "source": [
    "def crop_all_boxes():\n",
    "    for p in BATCHES_DIR.iterdir():\n",
    "        if \"rotation\" in p.name and (p/ \"annotations\" / \"instances_updated.json\").exists() and (p/ \"images\").exists():\n",
    "            print(p)\n",
    "            \n",
    "            image_path = p/ \"images\" / \"default\"  \n",
    "            print((image_path))\n",
    "            \n",
    "            coco = load_coco(p/ \"annotations\" / \"instances_updated.json\")\n",
    "            \n",
    "            print(coco.keys())\n",
    "            count = 1\n",
    "            \n",
    "            DEST_IMG_DIR = Path(f'../data/rotation/batches/{p.name}/images/boxes')\n",
    "            DEST_IMG_DIR.mkdir(parents=True, exist_ok=True)\n",
    "\n",
    "            for anns in coco[\"annotations\"]:\n",
    "                if count <= 3: \n",
    "                    cx, cy, w, h, theta = anns[\"bbox\"]\n",
    "                    image_id = anns[\"image_id\"]\n",
    "\n",
    "                    print(anns[\"image_id\"])\n",
    "                    img_meta = next((img for img in coco[\"images\"] if img[\"id\"] == image_id), None)\n",
    "                    print(img_meta)\n",
    "                    print(type(img_meta))\n",
    "                    file_name = img_meta.get('file_name')\n",
    "                    print(file_name)\n",
    "                    \n",
    "                    file_number = file_name.replace('.png', \"\")\n",
    "                    print(file_number)\n",
    "                    \n",
    "                    img_arr = cv2.imread(image_path / file_name)\n",
    "                    \n",
    "                    print(image_path)\n",
    "                    \n",
    "                    \n",
    "                    rotated_box = crop_oriented_bbox(img_arr, cx, cy, w, h, theta)\n",
    "                    \n",
    "                    cv2.imwrite(f'{p}/images/boxes/{file_number}_{anns[\"id\"]}.jpg', rotated_box)\n",
    "\n",
    "\n",
    "                    count = count + 1\n",
    "                else:\n",
    "                    break \n",
    "                \n",
    "            \n",
    "crop_all_boxes()"
   ]
  },
  {
   "cell_type": "code",
   "execution_count": 25,
   "id": "162ecb1f",
   "metadata": {},
   "outputs": [
    {
     "name": "stdout",
     "output_type": "stream",
     "text": [
      "<class 'numpy.ndarray'>\n",
      "uint8\n"
     ]
    }
   ],
   "source": [
    "\n",
    "print(type(image_1))        # <class 'numpy.ndarray'>\n",
    "print(image_1.dtype)  \n",
    "\n",
    "def test_all_boxes():\n",
    "    for p in BATCHES_DIR.iterdir():\n",
    "        if \"rotation\" in p.name and (p/ \"annotations\" / \"instances_updated.json\").exists() and (p/ \"images\").exists():\n",
    "            print(p)\n",
    "            \n",
    "            image_path = p/ \"images\" / \"default\"\n",
    "                \n",
    "            print((image_path))\n",
    "\n",
    "            print(type(image_path))\n",
    "            \n",
    "            count = 3\n",
    "            for img in sorted(image_path.iterdir()):\n",
    "                print(img)\n",
    "                #img = cv2.imread(image_file)\n",
    "                #rectify_patch(img)\n",
    "                #json_path = p / \"annotations\" / \"instances_default.json\"\n",
    "                #print(json_path)\n",
    "                #coco = load_coco(json_path)\n",
    "                \n",
    "                \n",
    "\n",
    "\n",
    "crop_all_boxes()"
   ]
  },
  {
   "cell_type": "code",
   "execution_count": 3,
   "id": "1cc00d26",
   "metadata": {},
   "outputs": [
    {
     "name": "stdout",
     "output_type": "stream",
     "text": [
      "Image file exists. Attempting to read the image...\n",
      "Image read successfully. Attempting to display the image...\n",
      "Image displayed. Press any key to close the window...\n"
     ]
    },
    {
     "name": "stderr",
     "output_type": "stream",
     "text": [
      "2025-07-08 14:07:58.162 python[69462:8755635] +[IMKClient subclass]: chose IMKClient_Legacy\n",
      "2025-07-08 14:07:58.162 python[69462:8755635] +[IMKInputSession subclass]: chose IMKInputSession_Legacy\n"
     ]
    },
    {
     "name": "stdout",
     "output_type": "stream",
     "text": [
      "Key pressed: 102. Closing the window...\n",
      "Window closed.\n"
     ]
    }
   ],
   "source": [
    "import cv2\n",
    "import os\n",
    "\n",
    "\n",
    "if not os.path.exists(image_file):\n",
    "    print(f\"Error: The image file {image_file} does not exist.\")\n",
    "else:\n",
    "    print(\"Image file exists. Attempting to read the image...\")\n",
    "    image_1 = cv2.imread(image_file)\n",
    "    if image_1 is None:\n",
    "        print(\"Error: Could not read the image.\")\n",
    "    else:\n",
    "        print(\"Image read successfully. Attempting to display the image...\")\n",
    "        cv2.imshow(\"test\", image_1)\n",
    "        print(\"Image displayed. Press any key to close the window...\")\n",
    "\n",
    "        while True:\n",
    "            key = cv2.waitKey(1) & 0xFF\n",
    "            if key != 255:\n",
    "                print(f\"Key pressed: {key}. Closing the window...\")\n",
    "                break\n",
    "\n",
    "        cv2.destroyAllWindows()\n",
    "        print(\"Window closed.\")\n"
   ]
  },
  {
   "cell_type": "code",
   "execution_count": 12,
   "id": "de4190a7",
   "metadata": {},
   "outputs": [
    {
     "name": "stdout",
     "output_type": "stream",
     "text": [
      "Rectify: centre=(2452.2,549.4) w=35.4 h=32.5 θ=314.6\n",
      "[[ 7.02153053e-01  7.12026046e-01  3.39216633e+02]\n",
      " [-7.12026046e-01  7.02153053e-01  1.90965344e+03]]\n"
     ]
    }
   ],
   "source": []
  },
  {
   "cell_type": "code",
   "execution_count": 13,
   "id": "db04bf94",
   "metadata": {},
   "outputs": [],
   "source": [
    "def rotate_patch(patch, angle):\n",
    "    h, w = patch.shape[:2]\n",
    "    M = cv2.getRotationMatrix2D((w/2, h/2), angle, 1.0)\n",
    "    cos, sin = abs(M[0,0]), abs(M[0,1])\n",
    "    new_w, new_h = int(h*sin + w*cos), int(h*cos + w*sin)\n",
    "    M[0,2] += new_w/2 - w/2\n",
    "    M[1,2] += new_h/2 - h/2\n",
    "    return cv2.warpAffine(patch, M, (new_w, new_h), flags=cv2.INTER_LINEAR, borderValue=255)"
   ]
  },
  {
   "cell_type": "markdown",
   "id": "2e76b60e",
   "metadata": {},
   "source": [
    "## 4 · Save helper"
   ]
  },
  {
   "cell_type": "markdown",
   "id": "543c66e1",
   "metadata": {},
   "source": [
    "## 5 · Overlay helper (optional)"
   ]
  },
  {
   "cell_type": "markdown",
   "id": "409339cd",
   "metadata": {},
   "source": [
    "## 6 · Main loop with extra prints"
   ]
  },
  {
   "cell_type": "code",
   "execution_count": 14,
   "id": "3a58f402",
   "metadata": {},
   "outputs": [],
   "source": [
    "def process_dataset(src_img_dir: Path, coco_json: Path, dest_img_dir: Path,\n",
    "                    angles: List[int] = ANGLES, every: int = 200):\n",
    "    coco = load_coco(coco_json)\n",
    "    \n"
   ]
  },
  {
   "cell_type": "markdown",
   "id": "c9188043",
   "metadata": {},
   "source": [
    "## 7 · Interactive inspect()"
   ]
  },
  {
   "cell_type": "markdown",
   "id": "95df6abc",
   "metadata": {},
   "source": [
    "## 8 · Smoke test"
   ]
  },
  {
   "cell_type": "markdown",
   "id": "308a52fc",
   "metadata": {},
   "source": [
    "## 9 · Run full dataset"
   ]
  },
  {
   "cell_type": "code",
   "execution_count": 15,
   "id": "025bbe0e",
   "metadata": {},
   "outputs": [],
   "source": [
    "# VERBOSE = False  # uncomment for speed\n",
    "# process_dataset(SRC_IMG_DIR, SRC_ANNOTATION_PATH, DEST_IMG_DIR)"
   ]
  },
  {
   "cell_type": "markdown",
   "id": "c9b22902",
   "metadata": {},
   "source": [
    "intersting features to add>\n",
    "\n",
    "\n",
    "Extra diagnostics to explain **where cropping goes wrong** and to display key COCO fields for every patch:\n",
    "* verbose per‑annotation banner with image/annotation IDs & bbox details\n",
    "* lost‑pixels report when a crop gets clipped by image borders\n",
    "* `inspect()` prints the category, bbox, rotation and lost‑pixel stats\n",
    "* helper `overlay_bbox()` overlays the rotated‑back bbox for visual sanity checks"
   ]
  }
 ],
 "metadata": {
  "kernelspec": {
   "display_name": "ocr-rec-lab-venv",
   "language": "python",
   "name": "python3"
  },
  "language_info": {
   "codemirror_mode": {
    "name": "ipython",
    "version": 3
   },
   "file_extension": ".py",
   "mimetype": "text/x-python",
   "name": "python",
   "nbconvert_exporter": "python",
   "pygments_lexer": "ipython3",
   "version": "3.10.0"
  }
 },
 "nbformat": 4,
 "nbformat_minor": 5
}
