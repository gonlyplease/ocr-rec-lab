{
 "cells": [
  {
   "cell_type": "markdown",
   "id": "08a1957e",
   "metadata": {},
   "source": [
    "# Box Rectification & Augmentation *(debug v2)*\n",
    "\n",
    "Extra diagnostics to explain **where cropping goes wrong** and to display key COCO fields for every patch:\n",
    "* verbose per‑annotation banner with image/annotation IDs & bbox details\n",
    "* lost‑pixels report when a crop gets clipped by image borders\n",
    "* `inspect()` prints the category, bbox, rotation and lost‑pixel stats\n",
    "* helper `overlay_bbox()` overlays the rotated‑back bbox for visual sanity checks\n"
   ]
  },
  {
   "cell_type": "code",
   "execution_count": null,
   "id": "113ab745",
   "metadata": {},
   "outputs": [],
   "source": [
    "import cv2, os, math, sys\n",
    "from pathlib import Path\n",
    "from typing import List, Tuple\n",
    "import numpy as np\n",
    "from tqdm import tqdm\n",
    "from pycocotools.coco import COCO\n",
    "\n",
    "VERBOSE = True\n",
    "\n",
    "def debug(msg: str, level: str = 'INFO') -> None:\n",
    "    if not VERBOSE:\n",
    "        return\n",
    "    colours = {'INFO': '\\033[94m', 'WARN': '\\033[93m', 'ERR': '\\033[91m'}\n",
    "    print(f\"{colours.get(level, '')}[{level}] {msg}\\033[0m\")"
   ]
  },
  {
   "cell_type": "markdown",
   "id": "f756e28d",
   "metadata": {},
   "source": [
    "## 1 · Configuration"
   ]
  },
  {
   "cell_type": "code",
   "execution_count": null,
   "id": "2e6d8337",
   "metadata": {},
   "outputs": [],
   "source": [
    "SRC_IMG_DIR         = Path('../data/rotation/batches/batch_20250703_01/images/default')\n",
    "SRC_ANNOTATION_PATH = Path('../data/rotation/batches/batch_20250703_01/annotations/instances_train_rectified.json')\n",
    "\n",
    "DEST_IMG_DIR        = Path('../data/rotation/batches/batch_20250703_01/images/boxes')\n",
    "DEST_IMG_DIR.mkdir(parents=True, exist_ok=True)\n",
    "\n",
    "PAD_RATIO: float    = 1.05\n",
    "ANGLES: List[int]   = [0, 45, 90, -45, -90, 180]\n",
    "\n",
    "debug('Config loaded.')"
   ]
  },
  {
   "cell_type": "markdown",
   "id": "b2f20c6f",
   "metadata": {},
   "source": [
    "## 2 · COCO helpers & utils"
   ]
  },
  {
   "cell_type": "code",
   "execution_count": null,
   "id": "1f063313",
   "metadata": {},
   "outputs": [],
   "source": [
    "def load_coco(path: Path) -> COCO:\n",
    "    debug(f'Loading COCO from {path}')\n",
    "    return COCO(str(path))\n",
    "\n",
    "\n",
    "def split_bbox(bbox: List[float]) -> Tuple[float, float, float, float, float]:\n",
    "    if len(bbox) == 5:\n",
    "        x, y, w, h, theta = bbox\n",
    "    elif len(bbox) == 4:\n",
    "        x, y, w, h = bbox; theta = 0.0\n",
    "    else:\n",
    "        debug(f'Unexpected bbox len={len(bbox)}', 'ERR'); raise ValueError(bbox)\n",
    "    return x, y, w, h, float(theta)\n",
    "\n",
    "\n",
    "def angle_from_ann(ann: dict) -> float:\n",
    "    _, _, _, _, theta = split_bbox(ann['bbox'])\n",
    "    if theta == 0.0:\n",
    "        theta = float(ann.get('attributes', {}).get('rotation', 0.0))\n",
    "        if theta > 180: theta -= 360\n",
    "    return theta\n",
    "\n",
    "\n",
    "def ensure_rgb(img):\n",
    "    if img.ndim == 2: img = cv2.cvtColor(img, cv2.COLOR_GRAY2BGR)\n",
    "    return cv2.cvtColor(img, cv2.COLOR_BGR2RGB)"
   ]
  },
  {
   "cell_type": "markdown",
   "id": "a6a27033",
   "metadata": {},
   "source": [
    "## 3 · Geometry with loss stats"
   ]
  },
  {
   "cell_type": "code",
   "execution_count": null,
   "id": "e96703c9",
   "metadata": {},
   "outputs": [],
   "source": [
    "def rectify_patch(img, cx, cy, w, h, theta, pad_ratio=PAD_RATIO):\n",
    "    debug(f'Rectify: centre=({cx:.1f},{cy:.1f}) w={w:.1f} h={h:.1f} θ={theta:.1f}')\n",
    "    M = cv2.getRotationMatrix2D((cx, cy), -theta, 1.0)\n",
    "    rot = cv2.warpAffine(img, M, (img.shape[1], img.shape[0]), flags=cv2.INTER_LINEAR)\n",
    "\n",
    "    half_w, half_h = (w*pad_ratio)/2, (h*pad_ratio)/2\n",
    "    x0, y0 = int(cx - half_w), int(cy - half_h)\n",
    "    x1, y1 = int(cx + half_w), int(cy + half_h)\n",
    "\n",
    "    lost_w = lost_h = 0\n",
    "    if x0 < 0: lost_w += -x0; x0 = 0\n",
    "    if y0 < 0: lost_h += -y0; y0 = 0\n",
    "    if x1 > rot.shape[1]: lost_w += x1-rot.shape[1]; x1 = rot.shape[1]\n",
    "    if y1 > rot.shape[0]: lost_h += y1-rot.shape[0]; y1 = rot.shape[0]\n",
    "\n",
    "    patch = rot[y0:y1, x0:x1].copy()\n",
    "    exp_w, exp_h = int(w*pad_ratio), int(h*pad_ratio)\n",
    "    debug(f'Patch {patch.shape} expected≈({exp_h},{exp_w}) lost ({lost_w}px, {lost_h}px)')\n",
    "    return patch, (lost_w, lost_h)"
   ]
  },
  {
   "cell_type": "code",
   "execution_count": null,
   "id": "db04bf94",
   "metadata": {},
   "outputs": [],
   "source": [
    "def rotate_patch(patch, angle):\n",
    "    h, w = patch.shape[:2]\n",
    "    M = cv2.getRotationMatrix2D((w/2, h/2), angle, 1.0)\n",
    "    cos, sin = abs(M[0,0]), abs(M[0,1])\n",
    "    new_w, new_h = int(h*sin + w*cos), int(h*cos + w*sin)\n",
    "    M[0,2] += new_w/2 - w/2\n",
    "    M[1,2] += new_h/2 - h/2\n",
    "    return cv2.warpAffine(patch, M, (new_w, new_h), flags=cv2.INTER_LINEAR, borderValue=255)"
   ]
  },
  {
   "cell_type": "markdown",
   "id": "2e76b60e",
   "metadata": {},
   "source": [
    "## 4 · Save helper"
   ]
  },
  {
   "cell_type": "code",
   "execution_count": null,
   "id": "da197efc",
   "metadata": {},
   "outputs": [],
   "source": [
    "def save_patch(patch, dest: Path):\n",
    "    dest.parent.mkdir(parents=True, exist_ok=True)\n",
    "    cv2.imwrite(str(dest), patch)"
   ]
  },
  {
   "cell_type": "markdown",
   "id": "543c66e1",
   "metadata": {},
   "source": [
    "## 5 · Overlay helper (optional)"
   ]
  },
  {
   "cell_type": "code",
   "execution_count": null,
   "id": "f487fe3d",
   "metadata": {},
   "outputs": [],
   "source": [
    "def overlay_bbox(img, cx, cy, w, h, theta, color=(0,255,0)):\n",
    "    # Draw rectangle before rotation (for debug)\n",
    "    pts = np.array([\n",
    "        [-w/2, -h/2], [w/2, -h/2], [w/2, h/2], [-w/2, h/2]\n",
    "    ])\n",
    "    rad = np.deg2rad(theta)\n",
    "    R = np.array([[math.cos(rad), -math.sin(rad)], [math.sin(rad), math.cos(rad)]])\n",
    "    rot_pts = (pts @ R.T) + np.array([cx, cy])\n",
    "    rot_pts = rot_pts.astype(int)\n",
    "    for i in range(4):\n",
    "        p1, p2 = rot_pts[i], rot_pts[(i+1)%4]\n",
    "        cv2.line(img, tuple(p1), tuple(p2), color, 2)\n",
    "    return img"
   ]
  },
  {
   "cell_type": "markdown",
   "id": "409339cd",
   "metadata": {},
   "source": [
    "## 6 · Main loop with extra prints"
   ]
  },
  {
   "cell_type": "code",
   "execution_count": null,
   "id": "3a58f402",
   "metadata": {},
   "outputs": [],
   "source": [
    "def process_dataset(src_img_dir: Path, coco_json: Path, dest_img_dir: Path,\n",
    "                    angles: List[int] = ANGLES, every: int = 200):\n",
    "    coco = load_coco(coco_json)\n",
    "    cats = {c['id']: c['name'] for c in coco.loadCats(coco.getCatIds())}\n",
    "    id2path = {img['id']: src_img_dir / img['file_name'] for img in coco.dataset['images']}\n",
    "\n",
    "    for idx, ann in enumerate(tqdm(coco.dataset['annotations'], desc='Extracting')):\n",
    "        img_path = id2path[ann['image_id']]\n",
    "        img = cv2.imread(str(img_path))\n",
    "        if img is None:\n",
    "            debug(f'Cannot read {img_path}', 'WARN'); continue\n",
    "\n",
    "        x, y, w, h, _ = split_bbox(ann['bbox'])\n",
    "        cx, cy = x+w/2, y+h/2\n",
    "        theta = angle_from_ann(ann)\n",
    "        cat_name = cats.get(ann['category_id'], '?')\n",
    "        debug(f'IMG {ann[\"image_id\"]} {img_path.name} | ANN {ann[\"id\"]} cat={cat_name}')\n",
    "        patch, loss = rectify_patch(img, cx, cy, w, h, theta)\n",
    "\n",
    "        base = f\"{img_path.stem}_ann{ann['id']:06d}\"\n",
    "        save_patch(patch, dest_img_dir / f\"{base}_000deg.png\")\n",
    "        for a in angles:\n",
    "            if a == 0: continue\n",
    "            save_patch(rotate_patch(patch, a), dest_img_dir / f\"{base}_{a:+03d}deg.png\")\n",
    "\n",
    "        if (idx+1) % every == 0:\n",
    "            debug(f'Processed {idx+1}/{len(coco.dataset[\"annotations\"])}')"
   ]
  },
  {
   "cell_type": "markdown",
   "id": "c9188043",
   "metadata": {},
   "source": [
    "## 7 · Interactive inspect()"
   ]
  },
  {
   "cell_type": "code",
   "execution_count": null,
   "id": "f84d5de8",
   "metadata": {},
   "outputs": [],
   "source": [
    "def inspect(image_id: int, ann_id: int = None):\n",
    "    import matplotlib.pyplot as plt\n",
    "    coco = load_coco(SRC_ANNOTATION_PATH)\n",
    "    cats = {c['id']: c['name'] for c in coco.loadCats(coco.getCatIds())}\n",
    "\n",
    "    img_info = coco.loadImgs([image_id])[0]\n",
    "    img = cv2.imread(str(SRC_IMG_DIR / img_info['file_name']))\n",
    "    anns = coco.loadAnns(coco.getAnnIds(imgIds=[image_id]))\n",
    "    ann = coco.loadAnns([ann_id])[0] if ann_id else anns[0]\n",
    "\n",
    "    x, y, w, h, _ = split_bbox(ann['bbox'])\n",
    "    theta = angle_from_ann(ann)\n",
    "    patch, loss = rectify_patch(img, x+w/2, y+h/2, w, h, theta)\n",
    "\n",
    "    print('--- IMAGE ---')\n",
    "    print(f'ID      : {img_info[\"id\"]}')\n",
    "    print(f'Filename: {img_info[\"file_name\"]}')\n",
    "    print(f'Size    : {img_info[\"width\"]}×{img_info[\"height\"]}')\n",
    "    print('\\n--- ANNOTATION ---')\n",
    "    print(f'ID        : {ann[\"id\"]}')\n",
    "    print(f'Category   : {ann[\"category_id\"]} ({cats.get(ann[\"category_id\"], \"?\")})')\n",
    "    print(f'BBox(x,y,w,h,θ): {ann[\"bbox\"]}')\n",
    "    print(f'Rotation attr   : {ann.get(\"attributes\", {}).get(\"rotation\", \"∅\")}')\n",
    "    print(f'Lost pixels     : width={loss[0]} height={loss[1]}')\n",
    "\n",
    "    fig, ax = plt.subplots(1, 2, figsize=(10,5))\n",
    "    ax[0].imshow(ensure_rgb(img)); ax[0].set_title('Original'); ax[0].axis('off')\n",
    "    overlay = img.copy()\n",
    "    overlay_bbox(overlay, x+w/2, y+h/2, w, h, theta, color=(0,0,255))\n",
    "    ax[0].imshow(ensure_rgb(overlay))\n",
    "    ax[1].imshow(ensure_rgb(patch)); ax[1].set_title('Rectified'); ax[1].axis('off')\n",
    "    plt.tight_layout()"
   ]
  },
  {
   "cell_type": "markdown",
   "id": "95df6abc",
   "metadata": {},
   "source": [
    "## 8 · Smoke test"
   ]
  },
  {
   "cell_type": "code",
   "execution_count": null,
   "id": "b4d59b30",
   "metadata": {},
   "outputs": [],
   "source": [
    "inspect(image_id=1)"
   ]
  },
  {
   "cell_type": "markdown",
   "id": "308a52fc",
   "metadata": {},
   "source": [
    "## 9 · Run full dataset"
   ]
  },
  {
   "cell_type": "code",
   "execution_count": null,
   "id": "025bbe0e",
   "metadata": {},
   "outputs": [],
   "source": [
    "# VERBOSE = False  # uncomment for speed\n",
    "# process_dataset(SRC_IMG_DIR, SRC_ANNOTATION_PATH, DEST_IMG_DIR)"
   ]
  }
 ],
 "metadata": {},
 "nbformat": 4,
 "nbformat_minor": 5
}
