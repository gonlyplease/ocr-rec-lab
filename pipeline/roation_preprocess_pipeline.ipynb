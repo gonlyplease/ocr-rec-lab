{
 "cells": [
  {
   "cell_type": "markdown",
   "id": "92ca47ee",
   "metadata": {},
   "source": [
    "\n",
    "## README / Quick‑Start / Rotation Pipeline\n",
    "\n",
    "**Directory layout expected**\n",
    "\n",
    "```\n",
    "rotation/\n",
    "└── batches/\n",
    "    ├── batch_20250115_01/          # <- renamed input folder\n",
    "    │   ├── images/\n",
    "    │   │   └── default/*.png\n",
    "    │   └── annotations/\n",
    "    │       └── instances_default.json\n",
    "    └── ...\n",
    "```\n",
    "\n",
    "> ⚠️ If your raw data are still in `rotation/batches/images/default`  \n",
    "> run section **1 – Rename batches** first.\n",
    "\n"
   ]
  },
  {
   "cell_type": "code",
   "execution_count": 1,
   "id": "c81c3af2",
   "metadata": {},
   "outputs": [],
   "source": [
    "\n",
    "import os, json, shutil, random, math, datetime as dt\n",
    "from pathlib import Path\n",
    "from typing import List, Dict, Any\n",
    "import pandas as pd\n",
    "import matplotlib.pyplot as plt\n",
    "from matplotlib.patches import Rectangle, Polygon\n",
    "\n",
    "import json, copy\n",
    "\n",
    "import math, collections\n",
    "\n",
    "\n",
    "plt.rcParams['figure.dpi'] = 140  # sharper inline figs\n"
   ]
  },
  {
   "cell_type": "code",
   "execution_count": 2,
   "id": "eaa02ba6",
   "metadata": {},
   "outputs": [
    {
     "name": "stdout",
     "output_type": "stream",
     "text": [
      "Working dir : /Users/gerhardkarbeutz/cerpro/ocr-rec-lab/pipeline\n",
      "Batch dir   : /Users/gerhardkarbeutz/cerpro/ocr-rec-lab/data/rotation\n",
      "Exists?     : True\n",
      "Contents    : [PosixPath('/Users/gerhardkarbeutz/cerpro/ocr-rec-lab/data/rotation/batches')]\n"
     ]
    }
   ],
   "source": [
    "\n",
    "# Where am I?\n",
    "print(\"Working dir :\", Path.cwd())\n",
    "\n",
    "# Show the absolute target\n",
    "batch_dir = Path(\"../data/rotation/\").resolve()\n",
    "print(\"Batch dir   :\", batch_dir)\n",
    "\n",
    "# Does it exist?\n",
    "print(\"Exists?     :\", batch_dir.exists())\n",
    "print(\"Contents    :\", list(batch_dir.iterdir())[:5])  # peek first 5 entries\n"
   ]
  }
 ],
 "metadata": {
  "kernelspec": {
   "display_name": "ocr-rec-lab-venv",
   "language": "python",
   "name": "python3"
  },
  "language_info": {
   "codemirror_mode": {
    "name": "ipython",
    "version": 3
   },
   "file_extension": ".py",
   "mimetype": "text/x-python",
   "name": "python",
   "nbconvert_exporter": "python",
   "pygments_lexer": "ipython3",
   "version": "3.10.0"
  }
 },
 "nbformat": 4,
 "nbformat_minor": 5
}
