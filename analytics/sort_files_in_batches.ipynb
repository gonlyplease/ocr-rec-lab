{
 "cells": [
  {
   "cell_type": "code",
   "execution_count": 24,
   "id": "cd1b6598",
   "metadata": {},
   "outputs": [],
   "source": [
    "import os\n",
    "import pandas as pd\n",
    "\n",
    "from pathlib import Path\n",
    "import shutil\n",
    "\n"
   ]
  },
  {
   "cell_type": "code",
   "execution_count": 38,
   "id": "e2ae265d",
   "metadata": {},
   "outputs": [],
   "source": [
    "CAD_CROPS = Path(\"../data/cad_crops\")\n",
    "SORTED_FOLDER = Path(\"../data/sorted_crops\")"
   ]
  },
  {
   "cell_type": "code",
   "execution_count": 23,
   "id": "608ad9b2",
   "metadata": {},
   "outputs": [
    {
     "name": "stdout",
     "output_type": "stream",
     "text": [
      "0_00025_crop_0.gt.txt\n",
      "0_00103_crop_0.gt.txt\n",
      "0_00031_crop_0.gt.txt\n",
      "0_00051_crop_0.gt.txt\n",
      "0_00060_crop_0.gt.txt\n",
      "0_00002_crop_0.gt.txt\n",
      "0_00046_crop_0.gt.txt\n",
      "0_00089_crop_0.gt.txt\n",
      "0_00062_crop_0.gt.txt\n",
      "0_00081_crop_0.gt.txt\n"
     ]
    }
   ],
   "source": [
    "pairs = []\n",
    "\n",
    "for filename in os.listdir(test_crops_folder):\n",
    "    if filename.endswith(\".jpg\"):\n",
    "        base = filename.replace(\".jpg\", \"\")\n",
    "        gt_file = f\"{base}.gt.txt\"\n",
    "        print(gt_file)\n",
    "        \n",
    "        "
   ]
  },
  {
   "cell_type": "code",
   "execution_count": 39,
   "id": "b146cfc9",
   "metadata": {},
   "outputs": [
    {
     "name": "stdout",
     "output_type": "stream",
     "text": [
      "Renamed 18388 image/gt pairs.\n"
     ]
    }
   ],
   "source": [
    "\n",
    "pairs = []\n",
    "count = 1\n",
    "\n",
    "for f in sorted(CAD_CROPS.glob(\"*.jpg\")):\n",
    "    \n",
    "    f = f.stem\n",
    "\n",
    "for f in sorted(CAD_CROPS.glob(\"*.jpg\")):\n",
    "    stem = f.stem\n",
    "    gt_file = CAD_CROPS / f\"{stem}.gt.txt\"\n",
    "    if gt_file.exists():\n",
    "        new_id = f\"img_{count:06d}\"\n",
    "        new_img = SORTED_FOLDER / f\"{new_id}.jpg\"\n",
    "        new_gt = SORTED_FOLDER / f\"{new_id}.gt.txt\"\n",
    "\n",
    "        shutil.copy(f, new_img)\n",
    "        shutil.copy(gt_file, new_gt)\n",
    "\n",
    "        pairs.append({\n",
    "            \"old_img\": f.name,\n",
    "            \"old_gt\": gt_file.name,\n",
    "            \"new_img\": new_img.name,\n",
    "            \"new_gt\": new_gt.name\n",
    "        })\n",
    "        count += 1    \n",
    "\n",
    "\n",
    "df = pd.DataFrame(pairs)\n",
    "df.to_csv(\"../data/filename_mapping.csv\", index=False)\n",
    "print(f\"Renamed {len(df)} image/gt pairs.\")"
   ]
  }
 ],
 "metadata": {
  "kernelspec": {
   "display_name": "ocr-rec-lab-venv",
   "language": "python",
   "name": "python3"
  },
  "language_info": {
   "codemirror_mode": {
    "name": "ipython",
    "version": 3
   },
   "file_extension": ".py",
   "mimetype": "text/x-python",
   "name": "python",
   "nbconvert_exporter": "python",
   "pygments_lexer": "ipython3",
   "version": "3.10.0"
  }
 },
 "nbformat": 4,
 "nbformat_minor": 5
}
