{
 "cells": [
  {
   "cell_type": "markdown",
   "id": "e6f392d8",
   "metadata": {},
   "source": [
    "# CAD Rotation Model – Pre‑processing Notebook\n",
    "\n",
    "Reusable utilities to prepare annotation *batches* for training a rotation‑aware detection model.\n",
    "The notebook is idempotent: you can re‑run after dropping in new batches."
   ]
  },
  {
   "cell_type": "markdown",
   "id": "aa760e9d",
   "metadata": {},
   "source": [
    "\n",
    "## README / Quick‑Start\n",
    "\n",
    "**Directory layout expected**\n",
    "\n",
    "```\n",
    "rotation/\n",
    "└── batches/\n",
    "    ├── batch_20250115_01/          # <- renamed input folder\n",
    "    │   ├── images/\n",
    "    │   │   └── default/*.png\n",
    "    │   └── annotations/\n",
    "    │       └── instances_default.json\n",
    "    └── ...\n",
    "```\n",
    "\n",
    "> ⚠️ If your raw data are still in `rotation/batches/images/default`  \n",
    "> run section **1 – Rename batches** first.\n",
    "\n",
    "**Requirements**\n",
    "\n",
    "```bash\n",
    "pip install pandas matplotlib pillow\n",
    "```\n",
    "\n",
    "The notebook runs entirely offline.\n",
    "\n",
    "**Lifecycle**\n",
    "\n",
    "1. **Rename batches** – give each batch a stable, informative folder name.  \n",
    "2. **Explore JSON** – get counts of images, categories, rotated boxes.  \n",
    "3. **Visual check** – overlay polygons / bboxes on random images.  \n",
    "4. **(Optional) Export tidy CSV** – for downstream pipelines.\n"
   ]
  },
  {
   "cell_type": "code",
   "execution_count": null,
   "id": "b2e2e2a4",
   "metadata": {},
   "outputs": [],
   "source": [
    "\n",
    "import os, json, shutil, random, math, datetime as dt\n",
    "from pathlib import Path\n",
    "from typing import List, Dict, Any\n",
    "import pandas as pd\n",
    "import matplotlib.pyplot as plt\n",
    "from matplotlib.patches import Rectangle, Polygon\n",
    "\n",
    "plt.rcParams['figure.dpi'] = 140  # sharper inline figs\n"
   ]
  },
  {
   "cell_type": "code",
   "execution_count": null,
   "id": "3b989312",
   "metadata": {},
   "outputs": [],
   "source": [
    "\n",
    "# ⇩⇩ Adjust these two lines to match your project root  ⇩⇩\n",
    "ROOT = Path.cwd()               # or Path('/absolute/path/to/project')\n",
    "BATCHES_DIR = ROOT/'rotation'/'batches'\n",
    "\n",
    "print('Project root:', ROOT)\n",
    "print('Batches dir  :', BATCHES_DIR)\n",
    "\n",
    "assert BATCHES_DIR.exists(), 'Path does not exist – please fix ROOT'\n"
   ]
  },
  {
   "cell_type": "markdown",
   "id": "bc2dfd76",
   "metadata": {},
   "source": [
    "## 1 – Rename batches\n",
    "\n",
    "Raw exports often land in a single folder. The helper below **moves** every `images/default` sibling into a new folder called `batch_<YYYYMMDD>_<nn>`.\n",
    "\n",
    "Feel free to adapt the scheme."
   ]
  },
  {
   "cell_type": "code",
   "execution_count": null,
   "id": "1c9651d0",
   "metadata": {},
   "outputs": [],
   "source": [
    "\n",
    "def rename_batches(batches_dir: Path, prefix: str = 'batch', date_fmt: str = '%Y%m%d') -> None:\n",
    "    \"\"\"Rename anonymous batch folders to a canonical pattern.\n",
    "\n",
    "    Args\n",
    "    ----\n",
    "    batches_dir : Path\n",
    "        The directory that currently holds `images/default` and `annotations/`\n",
    "        or a flat list of unnamed batches.\n",
    "    prefix : str\n",
    "        Prefix used in the target folder name, defaults to 'batch'.\n",
    "    date_fmt : str\n",
    "        Date stamp to attach. Default '%%Y%%m%%d'.\n",
    "\n",
    "    Effect\n",
    "    ------\n",
    "    Creates new directory `batches_dir/<prefix>_<date>_<index:02d>` and moves\n",
    "    `images` and `annotations` inside.\n",
    "    \"\"\"    \n",
    "    today = dt.datetime.today().strftime(date_fmt)\n",
    "    index = 1\n",
    "    unnamed = [p for p in batches_dir.iterdir() if p.is_dir() and p.name not in ('images','annotations')]\n",
    "    # also handle loose images/annotations sitting directly\n",
    "    if (batches_dir/'images').exists() and (batches_dir/'annotations').exists():\n",
    "        unnamed.append(batches_dir)\n",
    "    if not unnamed:\n",
    "        print('Nothing to rename – folders already structured ✔️')\n",
    "        return\n",
    "    for src in unnamed:\n",
    "        target = batches_dir/f\"{prefix}_{today}_{index:02d}\"\n",
    "        index += 1\n",
    "        target.mkdir(exist_ok=True)\n",
    "        for sub in ('images', 'annotations'):\n",
    "            sub_path = src/sub\n",
    "            if sub_path.exists():\n",
    "                shutil.move(str(sub_path), target/ sub)\n",
    "        # remove empty src folder if it wasn't batches_dir\n",
    "        if src != batches_dir:\n",
    "            try:\n",
    "                src.rmdir()\n",
    "            except OSError:\n",
    "                pass\n",
    "        print(f\"Moved {src} -> {target}\")\n"
   ]
  },
  {
   "cell_type": "code",
   "execution_count": null,
   "id": "5212ae2b",
   "metadata": {},
   "outputs": [],
   "source": [
    "\n",
    "# -- Preview rename without executing (dry run) -------------------------------\n",
    "# Uncomment to execute\n",
    "# rename_batches(BATCHES_DIR)\n"
   ]
  },
  {
   "cell_type": "markdown",
   "id": "81bd571a",
   "metadata": {},
   "source": [
    "## 2 – Explore a COCO JSON file"
   ]
  },
  {
   "cell_type": "code",
   "execution_count": null,
   "id": "68c8c4e0",
   "metadata": {},
   "outputs": [],
   "source": [
    "\n",
    "def load_coco(json_path: Path) -> Dict[str, Any]:\n",
    "    with open(json_path, 'r', encoding='utf-8') as f:\n",
    "        coco = json.load(f)\n",
    "    return coco\n",
    "\n",
    "def coco_summary(coco: Dict[str, Any]) -> None:\n",
    "    print(f\"Images      : {len(coco['images']):>5}\")\n",
    "    print(f\"Annotations : {len(coco['annotations']):>5}\")\n",
    "    print(f\"Categories  : {len(coco['categories']):>5}\\n\")\n",
    "    cat_map = {c['id']: c['name'] for c in coco['categories']}\n",
    "    counts = {}\n",
    "    for ann in coco['annotations']:\n",
    "        counts[cat_map[ann['category_id']]] = counts.get(cat_map[ann['category_id']], 0) + 1\n",
    "    print('Top classes:')\n",
    "    for k, v in sorted(counts.items(), key=lambda kv: kv[1], reverse=True)[:10]:\n",
    "        print(f\"  {k:<25} {v}\")\n",
    "\n",
    "def coco_to_df(coco: Dict[str, Any]) -> pd.DataFrame:\n",
    "    img_lookup = {img['id']: img for img in coco['images']}\n",
    "    rows = []\n",
    "    for ann in coco['annotations']:\n",
    "        img = img_lookup[ann['image_id']]\n",
    "        row = {\n",
    "            'image_id': ann['image_id'],\n",
    "            'file_name': img['file_name'],\n",
    "            'width': img['width'],\n",
    "            'height': img['height'],\n",
    "            'category_id': ann['category_id'],\n",
    "            'bbox': ann['bbox'],\n",
    "            'area': ann.get('area', None),\n",
    "            'rotation': ann.get('attributes', {}).get('rotation', 0.0),\n",
    "            'iscrowd': ann.get('iscrowd', 0)\n",
    "        }\n",
    "        rows.append(row)\n",
    "    return pd.DataFrame(rows)\n"
   ]
  },
  {
   "cell_type": "code",
   "execution_count": null,
   "id": "6665d882",
   "metadata": {},
   "outputs": [],
   "source": [
    "\n",
    "# pick the first batch\n",
    "first_batch = next(sorted(BATCHES_DIR.iterdir()))\n",
    "json_path = first_batch/'annotations'/'instances_default.json'\n",
    "coco = load_coco(json_path)\n",
    "coco_summary(coco)\n",
    "\n",
    "df = coco_to_df(coco)\n",
    "df.head()\n"
   ]
  },
  {
   "cell_type": "markdown",
   "id": "93968650",
   "metadata": {},
   "source": [
    "## 3 – Visual sanity check"
   ]
  },
  {
   "cell_type": "code",
   "execution_count": null,
   "id": "1bc1ca83",
   "metadata": {},
   "outputs": [],
   "source": [
    "\n",
    "def show_image_with_annotations(image_row: pd.Series, anns: pd.DataFrame, images_dir: Path,\n",
    "                                show_bbox=True, show_seg=False, alpha=0.3) -> None:\n",
    "    \"\"\"Display single image with its rotated bboxes (approx. via matplotlib.transforms).\"\"\"\n",
    "    img_path = images_dir / image_row['file_name']\n",
    "    if not img_path.exists():\n",
    "        print('Image not found:', img_path)\n",
    "        return\n",
    "    img = plt.imread(img_path)\n",
    "\n",
    "    fig, ax = plt.subplots(figsize=(6,6))\n",
    "    ax.imshow(img)\n",
    "    ax.axis('off')\n",
    "\n",
    "    subset = anns[anns['image_id'] == image_row['image_id']]\n",
    "    for _, ann in subset.iterrows():\n",
    "        x, y, w, h = ann['bbox']\n",
    "        rot = ann['rotation']\n",
    "        rect = Rectangle((x, y), w, h, angle=-rot, \n",
    "                         linewidth=1.2, fill=False)\n",
    "        ax.add_patch(rect)\n",
    "        ax.text(x, y, str(ann['category_id']), fontsize=6, color='yellow')\n",
    "    plt.show()\n",
    "\n",
    "# Example: pick random image\n",
    "sample_row = df.sample(1, random_state=42).iloc[0]\n",
    "show_image_with_annotations(sample_row, df, first_batch/'images'/'default')\n"
   ]
  },
  {
   "cell_type": "markdown",
   "id": "d232b09a",
   "metadata": {},
   "source": [
    "## 4 – Debugging tips and next steps\n",
    "- Add `assert` statements after every transformation.\n",
    "- Use `df.query()` to inspect edge cases (e.g. large rotation angles).\n",
    "- When overlays look wrong, print the raw `bbox` and `rotation` for that id.\n",
    "- Consider writing unit tests with `pytest` if the pipeline will grow."
   ]
  }
 ],
 "metadata": {
  "kernelspec": {
   "display_name": "Python 3",
   "language": "python",
   "name": "python3"
  }
 },
 "nbformat": 4,
 "nbformat_minor": 5
}
